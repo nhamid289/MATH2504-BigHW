{
 "cells": [
  {
   "cell_type": "markdown",
   "metadata": {},
   "source": [
    "### MATH2504 S2, 2022, BigHW Submission \n",
    "### Submission form I of IV "
   ]
  },
  {
   "cell_type": "markdown",
   "metadata": {},
   "source": [
    "---\n",
    "\n",
    "**Note: It is expected that this notebook be runnable in the sense that the marker can select \"Restart & Run All\" and all code cells of solutions will execute. This requires not to have name clashes between solutions.**\n",
    "\n",
    "---"
   ]
  },
  {
   "cell_type": "markdown",
   "metadata": {},
   "source": [
    "# Solution to [Question 1](https://courses.smp.uq.edu.au/MATH2504/2022/assessment_html/bighw.html#q1)"
   ]
  },
  {
   "cell_type": "markdown",
   "metadata": {},
   "source": [
    "## 1a:"
   ]
  },
  {
   "cell_type": "markdown",
   "metadata": {},
   "source": [
    "$\\varphi = 1 + \\frac{1}{1 + \\frac{1}{1 + \\frac{1}{1 + \\frac{1}{1 + \\ddots}}}}$\n"
   ]
  },
  {
   "cell_type": "markdown",
   "metadata": {},
   "source": [
    "## 1b:"
   ]
  },
  {
   "cell_type": "markdown",
   "metadata": {},
   "source": [
    "1. [The Hobbit](https://www.goodreads.com/book/show/5907.The_Hobbit)\n",
    "1. [The Book Thief](https://www.goodreads.com/book/show/19063.The_Book_Thief)\n",
    "1. [The Name of The Wind](https://www.goodreads.com/book/show/186074.The_Name_of_the_Wind)\n",
    "1. [Six of Crows](https://www.goodreads.com/book/show/23437156-six-of-crows)\n",
    "1. [The House in the Cerulean Sea](https://www.goodreads.com/book/show/45047384-the-house-in-the-cerulean-sea)\n"
   ]
  },
  {
   "cell_type": "markdown",
   "metadata": {},
   "source": [
    "## 1c:"
   ]
  },
  {
   "cell_type": "markdown",
   "metadata": {},
   "source": [
    "![Image](https://www.aerospace-technology.com/wp-content/uploads/sites/15/2017/10/1l-Image-46.jpg)\n",
    "\n",
    "<img src=https://www.aerospace-technology.com/wp-content/uploads/sites/15/2017/10/1l-Image-46.jpg width=\"300\">"
   ]
  },
  {
   "cell_type": "markdown",
   "metadata": {},
   "source": [
    "## 1d:"
   ]
  },
  {
   "cell_type": "markdown",
   "metadata": {},
   "source": [
    "<!DOCTYPE html>\n",
    "<html>\n",
    "<head>\n",
    "<style>\n",
    "table {\n",
    "  font-family: arial, sans-serif;\n",
    "  border-collapse: collapse;\n",
    "  width: 100%;\n",
    "}\n",
    "\n",
    "td, th {\n",
    "  border: 1px solid #dddddd;\n",
    "  text-align: left;\n",
    "  padding: 8px;\n",
    "}\n",
    "\n",
    "tr:nth-child(even) {\n",
    "  background-color: #dddddd;\n",
    "}\n",
    "</style>\n",
    "</head>\n",
    "<body>\n",
    "\n",
    "<h2>Weekly Timetable</h2>\n",
    "\n",
    "<table>\n",
    "  <tr>\n",
    "    <th>Time</th>\n",
    "    <th>Monday</th>\n",
    "    <th>Tuesday</th>\n",
    "    <th>Wednesday</th>\n",
    "    <th>Thursday</th>\n",
    "    <th>Friday</th>\n",
    "  </tr>\n",
    "  <tr>\n",
    "    <td>8am</td>\n",
    "    <td></td>\n",
    "    <td>COSC2500 LEC1 (1 Hour)</td>\n",
    "    <td></td>\n",
    "    <td></td>\n",
    "    <td></td>\n",
    "  </tr>\n",
    "  <tr>\n",
    "    <td>9am</td>\n",
    "    <td></td>\n",
    "    <td></td>\n",
    "    <td></td>\n",
    "    <td></td>\n",
    "    <td></td>\n",
    "  </tr>\n",
    "  <tr>\n",
    "    <td>10am</td>\n",
    "    <td></td>\n",
    "    <td></td>\n",
    "    <td>STAT2004 LEC2 (1 Hour)</td>\n",
    "    <td>MATH2100 TUT1 (1 Hour)</td>\n",
    "    <td></td>\n",
    "  </tr>\n",
    "  <tr>\n",
    "    <td>11am</td>\n",
    "    <td></td>\n",
    "    <td></td>\n",
    "    <td></td>\n",
    "    <td>COSC2500 LEC2 (1 Hour)</td>\n",
    "    <td></td>\n",
    "  </tr>\n",
    "  <tr>\n",
    "    <td>12pm</td>\n",
    "    <td></td>\n",
    "    <td>STAT2004 LEC1 (1 Hour)</td>\n",
    "    <td></td>\n",
    "    <td></td>\n",
    "    <td>STAT2004 LEC3 (1 Hour)</td>\n",
    "  </tr>\n",
    "  <tr>\n",
    "    <td>1pm</td>\n",
    "    <td>MATH2100 LEC1 (1 Hour)</td>\n",
    "    <td></td>\n",
    "    <td>MATH2100 LEC3 (1 Hour)</td>\n",
    "    <td>MATH2504 PRAC1 (1 Hour)</td>\n",
    "    <td></td>\n",
    "  </tr>\n",
    "   <tr>\n",
    "    <td>2pm</td>\n",
    "    <td></td>\n",
    "    <td>COSC2500 PRAC1 (2 Hours)</td>\n",
    "    <td></td>\n",
    "    <td></td>\n",
    "    <td></td>\n",
    "  </tr>\n",
    "   <tr>\n",
    "    <td>3pm</td>\n",
    "    <td></td>\n",
    "    <td></td>\n",
    "    <td></td>\n",
    "    <td></td>\n",
    "    <td></td>\n",
    "  </tr>\n",
    "   <tr>\n",
    "    <td>4pm</td>\n",
    "    <td></td>\n",
    "    <td>MATH2100 LEC2 (1 Hour)</td>\n",
    "    <td></td>\n",
    "    <td></td>\n",
    "    <td></td>\n",
    "  </tr>\n",
    "   <tr>\n",
    "    <td>5pm</td>\n",
    "    <td>MATH2504 LEC1 (2 Hours)</td>\n",
    "    <td>STAT2004 TUT1 (1 Hour)</td>\n",
    "    <td></td>\n",
    "    <td></td>\n",
    "    <td></td>\n",
    "  </tr>\n",
    "   <tr>\n",
    "    <td>6pm</td>\n",
    "    <td></td>\n",
    "    <td>MATH2504 LEC2 (1 Hour)</td>\n",
    "    <td></td>\n",
    "    <td></td>\n",
    "    <td></td>\n",
    "  </tr>\n",
    "</table>\n",
    "\n",
    "</body>\n",
    "</html>\n",
    "\n"
   ]
  },
  {
   "cell_type": "markdown",
   "metadata": {},
   "source": [
    "# Solution to [Question 2](https://courses.smp.uq.edu.au/MATH2504/2022/assessment_html/bighw.html#q2)"
   ]
  },
  {
   "cell_type": "markdown",
   "metadata": {},
   "source": [
    "## 2a:"
   ]
  },
  {
   "cell_type": "markdown",
   "metadata": {},
   "source": [
    "#### 2a.1:"
   ]
  },
  {
   "cell_type": "markdown",
   "metadata": {},
   "source": [
    "The code still works without the `::Number` specification. Julia can usually determine the type of a variable, and it only needs to specified in cases where there may be some ambiguity about the correct type. In this case if we gave the function an input that wasn't a number, for example an array, it would result in an error since the function isn't able to handle that type of input. "
   ]
  },
  {
   "cell_type": "markdown",
   "metadata": {},
   "source": [
    "#### 2a.2:"
   ]
  },
  {
   "cell_type": "markdown",
   "metadata": {},
   "source": [
    "The code doesn't work if we swap the shorthand to `4ac`. This is because `a` and `c` are of the same type so Julia interprets them as a new variable `ac` instead of the product of `a` and `c`. However, since `4` and `a`/`c` are of different types, there is no need to place the `*` operator between them.\n"
   ]
  },
  {
   "cell_type": "markdown",
   "metadata": {},
   "source": [
    "#### 2a.3:"
   ]
  },
  {
   "cell_type": "markdown",
   "metadata": {},
   "source": [
    "Replacing `Δ == 0` with `Δ = 0` results in a syntax error. "
   ]
  },
  {
   "cell_type": "markdown",
   "metadata": {},
   "source": [
    "#### 2a.4:"
   ]
  },
  {
   "cell_type": "markdown",
   "metadata": {},
   "source": [
    "The code still works if we swap ` [-b + √Δ, -b - √Δ] / (2a)` with `(-b .+ [√Δ,-√Δ])/(2a)`. However, it will not work if we remove the `.` from `.+`. The `.` indicates an element wise operation on the vector. If we remove it, Julia attempts to add vector `[√Δ,-√Δ]` to a constant, which isn't possible, resulting in an error. "
   ]
  },
  {
   "cell_type": "markdown",
   "metadata": {},
   "source": [
    "#### 2a.5:"
   ]
  },
  {
   "cell_type": "markdown",
   "metadata": {},
   "source": [
    "Yes, the code still works if we remove `return roots`"
   ]
  },
  {
   "cell_type": "markdown",
   "metadata": {},
   "source": [
    "#### 2a.6:"
   ]
  },
  {
   "cell_type": "markdown",
   "metadata": {},
   "source": [
    "The code returns `NaN` and `Inf` if we use $a = 0$ or $a = 0.0$. The function is no longer a polynomial. Since $a= 0$, we find that $\\Delta = b^2$, which is always positive, so our roots are $\\frac{-b + \\sqrt{\\Delta}}{2a}$ and $\\frac{-b - \\sqrt{\\Delta}}{2a}$. We have a divide by zero problem because $a = 0$, so the positive root results in `NaN` and the negative roots returns `-Inf`."
   ]
  },
  {
   "cell_type": "markdown",
   "metadata": {},
   "source": [
    "#### 2a.7:"
   ]
  },
  {
   "cell_type": "markdown",
   "metadata": {},
   "source": [
    "The code works with the error checking step"
   ]
  },
  {
   "cell_type": "markdown",
   "metadata": {},
   "source": [
    "#### 2a.8:"
   ]
  },
  {
   "cell_type": "markdown",
   "metadata": {},
   "source": [
    "The code does work with the alternate error checking code. The `&&` operator is dual purpose in Julia. When paired with two Boolean statements, it functions as a logical 'and'. However, in this case, it checks for the truth of the preceding statement, and if it is true then it executes the following code. "
   ]
  },
  {
   "cell_type": "markdown",
   "metadata": {},
   "source": [
    "#### 2a.9:"
   ]
  },
  {
   "cell_type": "markdown",
   "metadata": {},
   "source": [
    "Using the `throw` function immediately throws an error to the user as soon as the function is called, and prevents the rest of the code from running. It also provides some helpful information to the user to prevent the error from occuring again, specifying that there is a domain error."
   ]
  },
  {
   "cell_type": "markdown",
   "metadata": {},
   "source": [
    "---"
   ]
  },
  {
   "cell_type": "markdown",
   "metadata": {},
   "source": [
    " ## 2b:"
   ]
  },
  {
   "cell_type": "markdown",
   "metadata": {},
   "source": [
    "#### 2b.1:"
   ]
  },
  {
   "cell_type": "code",
   "execution_count": 17,
   "metadata": {},
   "outputs": [
    {
     "name": "stdout",
     "output_type": "stream",
     "text": [
      "The equation 1x² + -5x + 6 = 0 has the real roots 3.0 and 2.0\n",
      "The equation 1x² + 2x + 3 = 0 has no real roots.\n",
      "The equation 1x² + 7x + 0 = 0 has the real roots 0.0 and -7.0\n",
      "The equation -1x² + 2x + 3 = 0 has the real roots -1.0 and 3.0\n",
      "The equation -3x² + 1x + 4 = 0 has the real roots -1.0 and 1.3333333333333333\n"
     ]
    }
   ],
   "source": [
    "\n",
    "function real_roots_of_quadratic(a::Number, b::Number, c::Number)\n",
    "    a == 0 && throw(DomainError(a, \"argument must be nonzero\"))\n",
    "    #Start by initializing an empty array\n",
    "    roots::Array{Float64} = []\n",
    "    \n",
    "    #Compute the discriminant \n",
    "    Δ = b^2 - 4a*c \n",
    "\n",
    "    #Based on the sign of the discriminant return 0, 1, or 2 roots.\n",
    "    if Δ < 0 \n",
    "        roots = []\n",
    "    elseif Δ == 0\n",
    "        roots = [-b/(2a)]\n",
    "    else\n",
    "        roots = (-b .+ [√Δ,-√Δ])/(2a)\n",
    "    end\n",
    "end\n",
    "\n",
    "examples = [[1,-5,6], [1,2,3],[1,7,0],[-1,2,3],[-3,1,4]]\n",
    "\n",
    "for example in examples\n",
    "    roots = real_roots_of_quadratic(example[1], example[2], example[3])\n",
    "    print(\"The equation $(example[1])x² + $(example[2])x + $(example[3]) = 0 \") \n",
    "    if length(roots) == 0\n",
    "        println(\"has no real roots.\") \n",
    "    elseif length(roots) == 1\n",
    "        println(\"has the single (real) root $(roots[1])\") \n",
    "    else\n",
    "        println(\"has the real roots $(roots[1]) and $(roots[2])\") \n",
    "    end \n",
    "end"
   ]
  },
  {
   "cell_type": "markdown",
   "metadata": {},
   "source": [
    "#### 2b.2:"
   ]
  },
  {
   "cell_type": "code",
   "execution_count": null,
   "metadata": {},
   "outputs": [],
   "source": [
    "function print_quadratic_roots(example,roots)\n",
    "    print(\"The equation $(example[1])x² + $(example[2])x + $(example[3]) = 0 \") \n",
    "    if length(roots) == 0 \n",
    "        println(\"has no real roots.\") \n",
    "    elseif length(roots) == 1 \n",
    "        println(\"has the single (real) root $(roots[1])\") \n",
    "    else \n",
    "        println(\"has the real roots $(roots[1]) and $(roots[2])\") \n",
    "    end \n",
    "    return nothing\n",
    "end\n",
    "\n",
    "examples = [[1,-5,6], [1,2,3],[1,7,0],[-1,2,3],[-3,1,4]]\n",
    "\n",
    "for example in examples\n",
    "    roots = real_roots_of_quadratic(example[1], example[2], example[3])\n",
    "    print_quadratic_roots(example,roots)\n",
    "end\n"
   ]
  },
  {
   "cell_type": "markdown",
   "metadata": {},
   "source": [
    "#### 2b.3:"
   ]
  },
  {
   "cell_type": "code",
   "execution_count": 18,
   "metadata": {},
   "outputs": [
    {
     "name": "stdout",
     "output_type": "stream",
     "text": [
      "The equation  x²  -x   -1 = 0 has the real roots 1.618033988749895 and -0.6180339887498949\n",
      "The equation -x²  +x    = 0 has the real roots -0.0 and 1.0\n",
      "The equation -x²  -x  + 1 = 0 has the real roots -0.3333333333333333 and -1.0\n"
     ]
    }
   ],
   "source": [
    "function print_quadratic_roots(example,roots)\n",
    "    coeffs = [\" \",\" \",\" \"]\n",
    "    for i = 1\n",
    "        (example[i] == -1 || example[i] == 1 ) ? coeffs[i] = \"d\" : coeffs[i] = \"$(example[i])\"\n",
    "        # if the coefficient is 1 or -1, we assign it a dummy \"d\",else takes on the normal value\n",
    "        coeffs[i] == \"d\" && example[i] == 1 ? coeffs[i] = \" \" : coeffs[i] = \"-\"\n",
    "        # if the coefficient corresponding to the dummy is 1, then we change the coefficient to \"\", else \"-\"\n",
    "    end\n",
    "    for i = 2\n",
    "        (example[i] == -1 || example[i] == 1 ) ? coeffs[i] = \"d\" : coeffs[i] = \"$(example[i])\"\n",
    "        # if the coefficient is 1 or -1, we assign it a dummy \"d\",else takes on the normal value\n",
    "        coeffs[i] == \"d\" && example[i] == 1 ? coeffs[i] = \"+\" : coeffs[i] = \"-\"\n",
    "        # if the coefficient corresponding to the dummy is 1, then we change the coefficient to \"\", else \"-\"\n",
    "    end\n",
    "    for i = 3\n",
    "        (example[i] > 0) &&(coeffs[i] = \"+ $(example[i])\") \n",
    "        (example[i] < 0) &&(coeffs[i] = \" $(example[i])\") \n",
    "        (example[i] == 0) &&(coeffs[i] = \" \") \n",
    "    end\n",
    "    print(\"The equation $(coeffs[1])x²  $(coeffs[2])x  $(coeffs[3]) = 0 \") \n",
    "    if length(roots) == 0 \n",
    "        println(\"has no real roots.\") \n",
    "    elseif length(roots) == 1 \n",
    "        println(\"has the single (real) root $(roots[1])\") \n",
    "    else \n",
    "        println(\"has the real roots $(roots[1]) and $(roots[2])\") \n",
    "    end \n",
    "    return nothing\n",
    "end\n",
    "\n",
    "examples = [[1,-1,-1],[-1,1,0],[3,4,1]]\n",
    "for example in examples\n",
    "    roots = real_roots_of_quadratic(example[1], example[2], example[3])\n",
    "    print_quadratic_roots(example,roots)\n",
    "end"
   ]
  },
  {
   "cell_type": "markdown",
   "metadata": {},
   "source": [
    "## 2c:"
   ]
  },
  {
   "cell_type": "markdown",
   "metadata": {},
   "source": [
    "#### 2c.1:"
   ]
  },
  {
   "cell_type": "markdown",
   "metadata": {},
   "source": [
    "The expression `2000rand(3) .- 1000` generates an array of 3 random uniformly distributed numbers $\\in [0,1]$, then multiplies each by 2000 to achieve a uniform distribution $\\in [0,2000]$. Finally, the `.-` operation subtracts 1000 elementwise from the array, offsetting the distribution to the range $[-1000,1000]$. If we want the range $[-5,5]$, we can use `10rand(3) .-5`."
   ]
  },
  {
   "cell_type": "markdown",
   "metadata": {},
   "source": [
    "#### 2c.2:"
   ]
  },
  {
   "cell_type": "markdown",
   "metadata": {},
   "source": [
    "We want to ensure that the coefficients are generated with a uniform random distribution between `coeff_min` and ` coeff_max`. We've implemented this by taking the standard uniform distribution, multiplying it by the range `coeff_max - coeff_min` then offsetting it by adding `coeff_min`."
   ]
  },
  {
   "cell_type": "code",
   "execution_count": null,
   "metadata": {},
   "outputs": [],
   "source": [
    "using Random\n",
    "\n",
    "function test_real_roots_of_quadratic(;num_tests = 10000, seed=42, coeff_min = -1000, coeff_max = 1000)\n",
    "    Random.seed!(seed)\n",
    "    test_passed = true\n",
    "    for _ in 1:num_tests\n",
    "        a, b, c = (coeff_max - coeff_min)rand(3) .+ coeff_min \n",
    "        roots = real_roots_of_quadratic(a,b,c)\n",
    "        for x in roots\n",
    "            err = a*x^2 + b*x + c \n",
    "            test_passed = (test_passed && isapprox(err, 0.0, atol = 1e-8)) \n",
    "        end\n",
    "    end\n",
    "    return test_passed\n",
    "end\n",
    "\n",
    "test_real_roots_of_quadratic(coeff_min = 12, coeff_max = 29) ? println(\"Test passed\") : println(\"Test failed\")"
   ]
  },
  {
   "cell_type": "markdown",
   "metadata": {},
   "source": [
    "#### 2c.3:"
   ]
  },
  {
   "cell_type": "markdown",
   "metadata": {},
   "source": [
    "If a particular polynomial has no real roots, then the for loop does not execute for any iterations at all. "
   ]
  },
  {
   "cell_type": "markdown",
   "metadata": {},
   "source": [
    "#### 2c.4:"
   ]
  },
  {
   "cell_type": "markdown",
   "metadata": {},
   "source": [
    "If there are no real roots in the quadratic, the loop does not execute at all, meaning that there is no opportunity for the program to change the true/false value of `test passed`. As a result, the test passes every time. I have demonstrated this below by rewriting the `real_roots_of_quadratic` function to produce an empty array every time. As can be seen, the test still passes."
   ]
  },
  {
   "cell_type": "code",
   "execution_count": 19,
   "metadata": {},
   "outputs": [
    {
     "name": "stdout",
     "output_type": "stream",
     "text": [
      "Test passed\n"
     ]
    }
   ],
   "source": [
    "function real_roots_of_quadratic(a::Number, b::Number, c::Number)\n",
    "    a == 0 && throw(DomainError(a, \"argument must be nonzero\"))\n",
    "    #Start by initializing an empty array\n",
    "    roots::Array{Float64} = []\n",
    "end\n",
    "\n",
    "\n",
    "test_real_roots_of_quadratic(coeff_min = 12, coeff_max = 29) ? println(\"Test passed\") : println(\"Test failed\")"
   ]
  },
  {
   "cell_type": "markdown",
   "metadata": {},
   "source": [
    "#### 2c.5:"
   ]
  },
  {
   "cell_type": "code",
   "execution_count": null,
   "metadata": {},
   "outputs": [],
   "source": [
    "function random_roots_of_quadratic() #function that generates random roots\n",
    "    num_roots = rand(0:2)\n",
    "    num_roots == 0 &&(return \"No real roots\")\n",
    "    r1 = round(20*rand() - 10, digits = 3)\n",
    "    r2 = round(20*rand() - 10, digits = 3)\n",
    "    num_roots == 1 &&( return [r1, r1])\n",
    "    num_roots == 2 &&( return [r1, r2])\n",
    "end\n",
    "\n",
    "function tester(roots)\n",
    "    test_passed = true\n",
    "    complexsols = [[0.3, -1.6, 2.6 ],[-1.1, -4.1, -4.7],[-0.4, -2.9, -7 ]]\n",
    "    if typeof(roots) == String #if there are no real roots, we simply check that the rroq function produces no real roots\n",
    "        i = rand(1:3)\n",
    "        coeffs = complexsols[i]\n",
    "        rroq = real_roots_of_quadratic(coeffs[1], coeffs[2], coeffs[3])\n",
    "        test_passed = isempty(rroq)\n",
    "        status = \"No real roots\"\n",
    "    else #if there are real roots, we ensure that the roots calculated by real_roots_of_quadratic are accurate\n",
    "        a = 20*rand() - 10\n",
    "        b = - a * (roots[1] + roots[2])\n",
    "        c = roots[1] * roots[2] * a\n",
    "\n",
    "        rroq = real_roots_of_quadratic(a, b, c)\n",
    "        if length(rroq) == 0\n",
    "            test_passed == false\n",
    "            status = \"One real root\"\n",
    "        else\n",
    "            length(rroq) == 1 ? status = \"One real root\" : status = \"Two real roots\"\n",
    "            length(rroq) == 1 ? realroots = push!(rroq, rroq[1]) : realroots = rroq\n",
    "            test_passed = true\n",
    "            for i in 1:2\n",
    "                test_passed = (test_passed && isapprox(realroots[i], roots[i], atol = 1e-8))\n",
    "            end\n",
    "        end\n",
    "    end\n",
    "    return test_passed, status\n",
    "end\n",
    "\n",
    "function rroq_tester()\n",
    "    result, status = tester(random_roots_of_quadratic())\n",
    "    #return status\n",
    "    result == true ? test_res = \"Test passed\" : test_res = \"Test failed\"\n",
    "    println(status, \" and \", test_res)\n",
    "end\n",
    "\n",
    "rroq_tester()\n",
    "\n",
    "\n",
    "\n",
    "\n",
    "\n",
    "    "
   ]
  },
  {
   "cell_type": "markdown",
   "metadata": {},
   "source": [
    "## 2d:"
   ]
  },
  {
   "cell_type": "code",
   "execution_count": null,
   "metadata": {},
   "outputs": [],
   "source": [
    "function roots_of_quadratic(a::Number, b::Number, c::Number)\n",
    "    roots::Array{ComplexF64} = []\n",
    "    Δ = b^2 - 4a*c\n",
    "    Δ == 0 ? roots = -b/(2a) : roots = [-b + √Complex(Δ), -b - √Complex(Δ)] / (2a)\n",
    "end\n",
    "roots_of_quadratic(1,2,-5)"
   ]
  },
  {
   "cell_type": "markdown",
   "metadata": {},
   "source": [
    "# Solution to [Question 3](https://courses.smp.uq.edu.au/MATH2504/2022/assessment_html/bighw.html#q3)"
   ]
  },
  {
   "cell_type": "markdown",
   "metadata": {},
   "source": [
    "## 3a:"
   ]
  },
  {
   "cell_type": "markdown",
   "metadata": {},
   "source": [
    "#### 3a.1:"
   ]
  },
  {
   "cell_type": "markdown",
   "metadata": {},
   "source": [
    "If x is even, then divide x by 2. If x is odd, then return 3x+1."
   ]
  },
  {
   "cell_type": "markdown",
   "metadata": {},
   "source": [
    "#### 3a.2:"
   ]
  },
  {
   "cell_type": "markdown",
   "metadata": {},
   "source": [
    "The Collatz Conjecture takes a positive integer and generates a sequence $\\{a_n\\}_{n=1}$ of integers. The Conjecture states that, using two arithmetic operations, the sequence will eventually reach 1. \n",
    "\n",
    "Suppose $a_1 = m$ for $m\\in\\mathbb{Z}^+$. The rest of the sequence is as follows:\n",
    "$\n",
    "a_{n+1}=\\begin{array}{cc}\n",
    "  \\{ & \n",
    "    \\begin{array}{cc}\n",
    "      \\frac{a_n}{2}, & m\\mod{2} \\equiv 0 \\\\\n",
    "      3a_n+1, & m\\mod{2}\\equiv 1\n",
    "    \\end{array}\n",
    "\\end{array}\n",
    "$\n",
    "\n",
    "The sequence terminates when $a_{n+1}=1$. "
   ]
  },
  {
   "cell_type": "markdown",
   "metadata": {},
   "source": [
    "#### 3a.3:"
   ]
  },
  {
   "cell_type": "code",
   "execution_count": null,
   "metadata": {},
   "outputs": [],
   "source": [
    "function hail_stone_sequence(x::Int, verbose::Bool = false)\n",
    "    while x != 1\n",
    "        x = ((x % 2 == 0) ? (x ÷ 2) : (3x + 1)) #\\div + [TAB] for ÷ \n",
    "        verbose && println(\"x = $x\")\n",
    "    end\n",
    "    return nothing\n",
    "end\n",
    "\n",
    "hail_stone_sequence(10^8,false)"
   ]
  },
  {
   "cell_type": "markdown",
   "metadata": {},
   "source": [
    "#### 3b:"
   ]
  },
  {
   "cell_type": "code",
   "execution_count": null,
   "metadata": {},
   "outputs": [],
   "source": [
    "using Plots\n",
    "function hail_length(x::Int)\n",
    "    n = 0\n",
    "    while x != 1\n",
    "        x = ((x % 2 == 0) ? (x ÷ 2) : (3x + 1))\n",
    "        n += 1\n",
    "    end\n",
    "    return n\n",
    "end\n",
    "\n",
    "function hail_max(N)\n",
    "    max_n = maximum([hail_length(x) for x in 1:N])\n",
    "    return max_n\n",
    "end\n",
    "\n",
    "step_range = 1:10^4\n",
    "max_vals = [hail_max(N) for N in step_range]\n",
    "plot(step_range, max_vals, xaxis=:log, \n",
    "    label=false, xlabel=\"Maximal initial value\", ylabel=\"Maximal number of steps\")"
   ]
  },
  {
   "cell_type": "markdown",
   "metadata": {},
   "source": [
    "#### 3c:"
   ]
  },
  {
   "cell_type": "code",
   "execution_count": null,
   "metadata": {},
   "outputs": [],
   "source": [
    "using Plots\n",
    "function hail_length(x::Int)\n",
    "    n = 0\n",
    "    while x != 1\n",
    "        x = ((x % 2 == 0) ? (x ÷ 2) : (3x + 1))\n",
    "        n += 1\n",
    "    end\n",
    "    return n\n",
    "end\n",
    "\n",
    "hail_length(1)\n",
    "function hail_max(M, N)\n",
    "    max_n = maximum([hail_length(x) for x in M:N])\n",
    "    return max_n\n",
    "end\n",
    "\n",
    "function max_vals_finder(range)\n",
    "    max_vals = Vector{Int64}(undef,length(range))\n",
    "    current_max = hail_length(1)\n",
    "    max_vals[1] = hail_length(1)\n",
    "    for i in range\n",
    "        hail_length(range[i]) > current_max &&(current_max = hail_length(range[i]))\n",
    "        max_vals[i] = current_max\n",
    "    end\n",
    "    return max_vals\n",
    "end\n",
    "\n",
    "x = 1:10^7\n",
    "y = max_vals_finder(x)\n",
    "newy = [y[i] for i in 1:50:length(y)]\n",
    "newx = 1:50:10^7\n",
    "\n",
    "plot(newx, newy, xaxis=:log, label=false, \n",
    "xlabel=\"Maximal initial value\", ylabel=\"Maximal number of steps\")"
   ]
  },
  {
   "cell_type": "markdown",
   "metadata": {},
   "source": [
    "Julia can only plot a certain number of points, so only a subset of max_vals were plotted (about $20 000$) up to an initial value of $10^7$. We can see from the plot that the maximal number of steps increases at a faster rate as the initial value of $x$ increases. However, as we also increase $x$, the magnitude at which the maximal number of steps increases is less than that for smaller values of $x$."
   ]
  },
  {
   "cell_type": "markdown",
   "metadata": {},
   "source": [
    "# Solution to [Question 4](https://courses.smp.uq.edu.au/MATH2504/2022/assessment_html/bighw.html#q4)"
   ]
  },
  {
   "cell_type": "markdown",
   "metadata": {},
   "source": [
    "## 4a:"
   ]
  },
  {
   "cell_type": "markdown",
   "metadata": {},
   "source": [
    "Each function is creating a random string in either binary or hexadecimal, the length of which `n` can be specified by the user in the function arguments. For each digit, the function assigns a random value using `rand()` from the available list provided to the `rand()` function. In the case of binary strings, this list is 0 and 1. For hexadecimal, we need 1 to 15, we are given by 1-9, then a,b,c,d,e, and f. The `* ()` operation is string concatenation. Each new digit generated is concatenated to the existing string until we reach the desired length string. "
   ]
  },
  {
   "cell_type": "code",
   "execution_count": null,
   "metadata": {},
   "outputs": [],
   "source": [
    "random_binary_string(n = 12) = *([rand(['0','1']) for _ in 1:n]...)\n",
    "random_hex_string(n=3) = *([rand(union('0':'9','A':'F')) for _ in 1:n]...);"
   ]
  },
  {
   "cell_type": "markdown",
   "metadata": {},
   "source": [
    "## 4b:"
   ]
  },
  {
   "cell_type": "markdown",
   "metadata": {},
   "source": [
    "Let's start with the binary case. We have 12 digits, each of which has two options, 0 or 1 that have equal probability of $\\frac{1}{2}$. The expected value of the nth digit (starting from the right) will be $ \\frac{1}{2} 2^{n-1} \\times 1 + \\frac{1}{2} \\times 0 = \\frac{1}{2} 2^n = 2^{n-2} $. Over a string length of 12, we find that the expected value of the representation is $\\sum_{i=1}^{12} 2^{i-2} $. This is a geometric series, and we can apply a standard formula to evaluate the sum, which is $2047$. Since we have $10^3$ random strings generated, we expect the sum to equal $2047000$. \n",
    "\n",
    "We can apply a similar thought process to the hexadecimal case. We have 16 options for each digit. The expected value of the nth digit is $\\frac{1}{16} 16^{n-1} \\times 15 + \\frac{1}{16} 16^{n-1} \\times 14 + \\dots + \\frac{1}{16} 16^{n-1} \\times 1 = 120 \\times 16^{n-2} $. For a string length of 3, the expected value of the representation is $\\sum_{i=1}^{3} 120 \\times 16^{i-2} $, which is again a geometric series which evaluates to 2047.5. Since we have $10^3$ random strings generated, we expect the sum to equal $2047500$.\n",
    "\n",
    "In fact, the two expectations are very similar, so we should see similar results from each sum."
   ]
  },
  {
   "cell_type": "code",
   "execution_count": null,
   "metadata": {},
   "outputs": [],
   "source": [
    "using Random\n",
    "Random.seed!(10)\n",
    "r_bin_strs = [random_binary_string() for _ in 1:10^3]\n",
    "r_hex_strs = [random_hex_string() for _ in 1:10^3];\n",
    "\n",
    "function array_sum_parser(strs, b = 2)\n",
    "    sum(parse.(Int,strs, base = b))\n",
    "end\n",
    "\n",
    "sum_r_bin = array_sum_parser(r_bin_strs, 2);\n",
    "sum_r_hex = array_sum_parser(r_hex_strs, 16);\n",
    "println(sum_r_bin)\n",
    "println(sum_r_hex)"
   ]
  },
  {
   "cell_type": "markdown",
   "metadata": {},
   "source": [
    "## 4c:"
   ]
  },
  {
   "cell_type": "code",
   "execution_count": null,
   "metadata": {},
   "outputs": [],
   "source": [
    "# this function reads and converts ASCII characters into integers. \n",
    "function char2int(x)\n",
    "    c = Int( x - '0')\n",
    "    c >= 17 ? c = c - 7 : c = c\n",
    "    return c\n",
    "end\n",
    "\n",
    "# this function calculates the decimal output by taking the coefficient of each digit and considering\n",
    "# the place value for each digit\n",
    "function my_parser(s::String; base = 2)\n",
    "    x = reverse(s)\n",
    "    dec = sum([char2int(x[i]) * base^(i-1) for i in 1:length(x)])\n",
    "    return dec\n",
    "end\n",
    "\n",
    "using Random\n",
    "Random.seed!(10)\n",
    "r_bin_strs = [random_binary_string() for _ in 1:10^3]\n",
    "r_hex_strs = [random_hex_string() for _ in 1:10^3];\n",
    "\n",
    "function array_sum_parser(strs, b = 2)\n",
    "    sum([my_parser(strs[i], base = b) for i in 1:length(strs)])\n",
    "end\n",
    "\n",
    "sum_r_bin = array_sum_parser(r_bin_strs, 2);\n",
    "sum_r_hex = array_sum_parser(r_hex_strs, 16);\n",
    "println(sum_r_bin)\n",
    "println(sum_r_hex)"
   ]
  }
 ],
 "metadata": {
  "kernelspec": {
   "display_name": "Julia 1.7.3",
   "language": "julia",
   "name": "julia-1.7"
  },
  "language_info": {
   "file_extension": ".jl",
   "mimetype": "application/julia",
   "name": "julia",
   "version": "1.7.3"
  }
 },
 "nbformat": 4,
 "nbformat_minor": 4
}
