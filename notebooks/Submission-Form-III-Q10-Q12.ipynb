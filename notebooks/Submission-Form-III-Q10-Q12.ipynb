{
 "cells": [
  {
   "cell_type": "markdown",
   "metadata": {},
   "source": [
    "### MATH2504 S2, 2022, BigHW Submission \n",
    "### Submission form III of IV "
   ]
  },
  {
   "cell_type": "markdown",
   "metadata": {},
   "source": [
    "---\n",
    "\n",
    "**Note: It is expected that this notebook be runnable in the sense that the marker can select \"Restart & Run All\" and all code cells of solutions will execute. This requires not to have name clashes between solutions.**\n",
    "\n",
    "---"
   ]
  },
  {
   "cell_type": "markdown",
   "metadata": {},
   "source": [
    "# Solution to [Question 10](https://courses.smp.uq.edu.au/MATH2504/2022/assessment_html/bighw.html#q10)"
   ]
  },
  {
   "cell_type": "markdown",
   "metadata": {},
   "source": [
    "Git was complicated to set up, but searching online for some tutorials made it workable. I had a lot of trouble with VIM when it first popped up, because I'd never seen it before. I couldn't even figure out how to save and exit until I did some googling. However being able to push our changes to repo instead of emailing eachother has been handy. "
   ]
  },
  {
   "cell_type": "markdown",
   "metadata": {},
   "source": [
    "# Solution to [Question 11](https://courses.smp.uq.edu.au/MATH2504/2022/assessment_html/bighw.html#q11)"
   ]
  },
  {
   "cell_type": "markdown",
   "metadata": {},
   "source": [
    "## 11a:"
   ]
  },
  {
   "cell_type": "markdown",
   "metadata": {},
   "source": [
    "nazeefhamid@Nazeefs-Macbook-Air hw2_q1 % pwd                                                          \n",
    "/Users/nazeefhamid/Documents/Courses/MATH2504/BigHW/hw2_q1\n"
   ]
  },
  {
   "cell_type": "markdown",
   "metadata": {},
   "source": [
    "## 11b:"
   ]
  },
  {
   "cell_type": "markdown",
   "metadata": {},
   "source": [
    "nazeefhamid@Nazeefs-Macbook-Air hw2_q1 % echo \"Nazeef Hamid\"                                        \n",
    "Nazeef Hamid"
   ]
  },
  {
   "cell_type": "markdown",
   "metadata": {},
   "source": [
    "## 11c:"
   ]
  },
  {
   "cell_type": "markdown",
   "metadata": {},
   "source": [
    "nazeefhamid@Nazeefs-Macbook-Air hw2_q1 % echo \"Nazeef Hamid\" > my_name.txt  "
   ]
  },
  {
   "cell_type": "markdown",
   "metadata": {},
   "source": [
    "## 11d:"
   ]
  },
  {
   "cell_type": "markdown",
   "metadata": {},
   "source": [
    "nazeefhamid@Nazeefs-Macbook-Air hw2_q1 % cat my_name.txt                                            \n",
    "Nazeef Hamid"
   ]
  },
  {
   "cell_type": "markdown",
   "metadata": {},
   "source": [
    "## 11e:"
   ]
  },
  {
   "cell_type": "markdown",
   "metadata": {},
   "source": [
    "nazeefhamid@Nazeefs-Macbook-Air hw2_q1 % ls -s my_name.txt                                            \n",
    "8 my_name.txt"
   ]
  },
  {
   "cell_type": "markdown",
   "metadata": {},
   "source": [
    "## 11f:"
   ]
  },
  {
   "cell_type": "markdown",
   "metadata": {},
   "source": [
    "nazeefhamid@Nazeefs-Macbook-Air hw2_q1 % cp my_name.txt my_name2.txt        "
   ]
  },
  {
   "cell_type": "markdown",
   "metadata": {},
   "source": [
    "## 11g:"
   ]
  },
  {
   "cell_type": "markdown",
   "metadata": {},
   "source": [
    "nazeefhamid@Nazeefs-Macbook-Air hw2_q1 % mkdir people  "
   ]
  },
  {
   "cell_type": "markdown",
   "metadata": {},
   "source": [
    "## 11h:"
   ]
  },
  {
   "cell_type": "markdown",
   "metadata": {},
   "source": [
    "nazeefhamid@Nazeefs-Macbook-Air hw2_q1 % mv my_name2.txt people/nazeef-hamid.txt                    "
   ]
  },
  {
   "cell_type": "markdown",
   "metadata": {},
   "source": [
    "## 11i:"
   ]
  },
  {
   "cell_type": "markdown",
   "metadata": {},
   "source": [
    "nazeefhamid@Nazeefs-Macbook-Air hw2_q1 % echo \"Eren Jaeger\" > people/eren-jaeger.txt               \n",
    "\n",
    "nazeefhamid@Nazeefs-Macbook-Air hw2_q1 % echo \"Joseph Joestar\" > people/joseph-joestar.txt \n",
    "\n",
    "nazeefhamid@Nazeefs-Macbook-Air hw2_q1 % echo \"Emiya Shirou\" > people/emiya-shirou.txt   \n"
   ]
  },
  {
   "cell_type": "markdown",
   "metadata": {},
   "source": [
    "## 11j:"
   ]
  },
  {
   "cell_type": "markdown",
   "metadata": {},
   "source": [
    "nazeefhamid@Nazeefs-Macbook-Air hw2_q1 % cd people\n",
    "\n",
    "nazeefhamid@Nazeefs-Macbook-Air people % mv eren-jaeger.txt ../"
   ]
  },
  {
   "cell_type": "markdown",
   "metadata": {},
   "source": [
    "## 11k:"
   ]
  },
  {
   "cell_type": "markdown",
   "metadata": {},
   "source": [
    "nazeefhamid@Nazeefs-Macbook-Air people % mv joseph-joestar.txt /Users/nazeefhamid/Documents/Courses/MATH2504/BigHW/hw2_q1"
   ]
  },
  {
   "cell_type": "markdown",
   "metadata": {},
   "source": [
    "## 11l:"
   ]
  },
  {
   "cell_type": "markdown",
   "metadata": {},
   "source": [
    "nazeefhamid@Nazeefs-Macbook-Air people % cp emiya-shirou.txt .emiya-shirou.txt"
   ]
  },
  {
   "cell_type": "markdown",
   "metadata": {},
   "source": [
    "## 11m:"
   ]
  },
  {
   "cell_type": "markdown",
   "metadata": {},
   "source": [
    "nazeefhamid@Nazeefs-Macbook-Air people % ls -s -a \n",
    "\n",
    "total 24\n",
    "0 .\t\t\t8 .emiya-shirou.txt\t8 nazeef-hamid.txt\n",
    "\n",
    "0 ..\t\t\t8 emiya-shirou.txt"
   ]
  },
  {
   "cell_type": "markdown",
   "metadata": {},
   "source": [
    "## 11n:"
   ]
  },
  {
   "cell_type": "markdown",
   "metadata": {},
   "source": [
    "nazeefhamid@Nazeefs-Macbook-Air people % rm *\n",
    "\n",
    "zsh: sure you want to delete all 2 files in /Users/nazeefhamid/Documents/Courses/MATH2504/BigHW/hw2_q1/people [yn]? y"
   ]
  },
  {
   "cell_type": "markdown",
   "metadata": {},
   "source": [
    "## 11o:"
   ]
  },
  {
   "cell_type": "markdown",
   "metadata": {},
   "source": [
    "nazeefhamid@Nazeefs-Macbook-Air people % cd ../\n",
    "\n",
    "nazeefhamid@Nazeefs-Macbook-Air hw2_q1 % rm -r people"
   ]
  },
  {
   "cell_type": "markdown",
   "metadata": {},
   "source": [
    "# Solution to [Question 12](https://courses.smp.uq.edu.au/MATH2504/2022/assessment_html/bighw.html#q12)"
   ]
  },
  {
   "cell_type": "code",
   "execution_count": null,
   "metadata": {},
   "outputs": [],
   "source": [
    "using DataFrames, CSV, HTTP, JSON\n",
    "\n",
    "function jupyter_notebook_analyser(cell_data)\n",
    "    mark, code, outs, execs = jupycounter(cell_data)\n",
    "    println(\"This notebook contains:\")\n",
    "    println(\"$(mark) markdown cells\")\n",
    "    println(\"$(code) code cells\")\n",
    "    println(\"$(outs) outputs\")\n",
    "    println(\"and an execution count of $(execs)\")\n",
    "    markdowncsv, codecsv = jupyter_csv_writer(cell_data, mark, code)\n",
    "    CSV.write(\"markdown_summary\", markdowncsv);\n",
    "    CSV.write(\"code_summary\", codecsv);\n",
    "    CSV.File(\"markdown_summary\") \n",
    "    println(\"Markdown csv sample\")\n",
    "    @show first(CSV.read(\"markdown_summary\", DataFrame),5)\n",
    "    CSV.File(\"code_summary\") \n",
    "    println(\"Code csv sample\")\n",
    "    @show first(CSV.read(\"code_summary\", DataFrame),5)\n",
    "end\n",
    "\n",
    "function jupycounter(cells)\n",
    "    num_cells = length(cells)\n",
    "    m = 0\n",
    "    c = 0 \n",
    "    out = 0\n",
    "    ec = 0\n",
    "    for i in 1:num_cells\n",
    "        (cells[i])[\"cell_type\"] == \"markdown\" ? m += 1 : c+= 1\n",
    "        (get(cells[i], \"outputs\", 1) != 1) ? out += 1 : out = out\n",
    "        typeof(get(cells[i], \"execution_count\", \"d\")) == Int64 ? ec = get(cells[i], \"execution_count\", \"d\") : ec = ec\n",
    "    end\n",
    "    return m, c, out, ec\n",
    "end\n",
    "\n",
    "function jupyter_csv_writer(cell_data,marks,codes)\n",
    "    markdown_cell_number = [i for i in 1:marks]\n",
    "    code_cell_number = [i for i in 1:codes]\n",
    "    markdown_character_count = []\n",
    "    markdown_line_count = []\n",
    "    code_character_count = []\n",
    "    code_line_count = []\n",
    "    code_return = []\n",
    "    code_for = []\n",
    "    code_if = []\n",
    "    code_using = []\n",
    "    markdown_hash1 = []\n",
    "    markdown_hash2 = []\n",
    "    markdown_hash3 = []\n",
    "    markdown_hash4 = []\n",
    "    for i in 1:length(cell_data)\n",
    "        if (cell_data[i])[\"cell_type\"] == \"markdown\"\n",
    "            push!(markdown_line_count,length(cell_data[i][\"source\"]))\n",
    "            characters = sum([length(cell_data[i][\"source\"][j]) for j in 1:length(cell_data[i][\"source\"])])\n",
    "            hash1 = sum([count(\"#\",cell_data[i][\"source\"][j]) for j in 1:length(cell_data[i][\"source\"])])\n",
    "            hash2 = sum([count(\"##\",cell_data[i][\"source\"][j]) for j in 1:length(cell_data[i][\"source\"])])\n",
    "            hash3 = sum([count(\"###\",cell_data[i][\"source\"][j]) for j in 1:length(cell_data[i][\"source\"])])\n",
    "            hash4 = sum([count(\"####\",cell_data[i][\"source\"][j]) for j in 1:length(cell_data[i][\"source\"])])\n",
    "            hash3true = hash3 - hash4\n",
    "            hash2true = hash2 - hash3 - 2*hash4\n",
    "            hash1true = hash1 - 2*hash2true - 3*hash3true - 4*hash4\n",
    "            push!(markdown_character_count, characters)\n",
    "            push!(markdown_hash4, hash4)\n",
    "            push!(markdown_hash3, hash3true )\n",
    "            push!(markdown_hash2, hash2true )\n",
    "            push!(markdown_hash1, hash1true )\n",
    "        end\n",
    "        if (cell_data[i])[\"cell_type\"] == \"code\"\n",
    "            push!(code_line_count,length(cell_data[i][\"source\"]))\n",
    "            characters = sum([length(cell_data[i][\"source\"][j]) for j in 1:length(cell_data[i][\"source\"])])\n",
    "            returns = sum([count(\"return\",cell_data[i][\"source\"][j]) for j in 1:length(cell_data[i][\"source\"])])\n",
    "            fors = sum([count(\"for\",cell_data[i][\"source\"][j]) for j in 1:length(cell_data[i][\"source\"])])\n",
    "            ifs = sum([count(\"if\",cell_data[i][\"source\"][j]) for j in 1:length(cell_data[i][\"source\"])])\n",
    "            usings = sum([count(\"using\",cell_data[i][\"source\"][j]) for j in 1:length(cell_data[i][\"source\"])])\n",
    "\n",
    "            push!(code_character_count, characters)\n",
    "            push!(code_return, returns)\n",
    "            push!(code_for,  fors)\n",
    "            push!(code_if, ifs)\n",
    "            push!(code_using, usings)\n",
    "        end\n",
    "    end\n",
    "\n",
    "    markdowncsv = DataFrame(cell_number = markdown_cell_number, character_count = markdown_character_count, line_count = markdown_line_count,\n",
    "    hash1 = markdown_hash1, hash2 = markdown_hash2, hash3 = markdown_hash3, hash4 = markdown_hash4)\n",
    "    \n",
    "\n",
    "    codecsv = DataFrame(cell_number = code_cell_number, character_count = code_character_count, line_count = code_line_count, \n",
    "    Return = code_return, For = code_for, If = code_if, Using = code_using)\n",
    "    return markdowncsv, codecsv\n",
    "end\n",
    "\n",
    "using HTTP, JSON\n",
    "\n",
    "jupyter_raw = HTTP.request(\"GET\", \"https://raw.githubusercontent.com/yoninazarathy/ProgrammingCourse-with-Julia-SimulationAnalysisAndLearningSystems/main/practicals_jupyter/practical_B_julia_essentials.ipynb\") \n",
    "\n",
    "jupyter_raw_data = JSON.parse(String(jupyter_raw.body))\n",
    "\n",
    "jupyter_raw_data[\"cells\"]\n",
    "\n",
    "cell_data = jupyter_raw_data[\"cells\"]\n",
    "\n",
    "jupyter_notebook_analyser(cell_data)"
   ]
  },
  {
   "cell_type": "markdown",
   "metadata": {},
   "source": []
  }
 ],
 "metadata": {
  "kernelspec": {
   "display_name": "Julia 1.7.3",
   "language": "julia",
   "name": "julia-1.7"
  },
  "language_info": {
   "file_extension": ".jl",
   "mimetype": "application/julia",
   "name": "julia",
   "version": "1.7.3"
  }
 },
 "nbformat": 4,
 "nbformat_minor": 4
}
