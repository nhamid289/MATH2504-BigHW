{
 "cells": [
  {
   "cell_type": "markdown",
   "metadata": {},
   "source": [
    "### MATH2504 S2, 2022, BigHW Submission \n",
    "### Submission form II of IV "
   ]
  },
  {
   "cell_type": "markdown",
   "metadata": {},
   "source": []
  },
  {
   "cell_type": "markdown",
   "metadata": {},
   "source": [
    "---\n",
    "\n",
    "**Note: It is expected that this notebook be runnable in the sense that the marker can select \"Restart & Run All\" and all code cells of solutions will execute. This requires not to have name clashes between solutions.**\n",
    "\n",
    "---"
   ]
  },
  {
   "cell_type": "markdown",
   "metadata": {},
   "source": [
    "# Solution to [Question 5](https://courses.smp.uq.edu.au/MATH2504/2022/assessment_html/bighw.html#q5)"
   ]
  },
  {
   "cell_type": "code",
   "execution_count": null,
   "metadata": {},
   "outputs": [],
   "source": [
    "#Write a function that inputs a positive integer x, and returns True if x is a perfect number, and False otherwise\n",
    "function perfect_number(n)\n",
    "    sum = 1\n",
    "    i = 2\n",
    "    while i^2 <= n\n",
    "        if n % i == 0\n",
    "            sum += i + n/i\n",
    "        end\n",
    "        i+= 1\n",
    "    end\n",
    "    (sum == n && n != 1)  ? (return true) : (return false)\n",
    "end\n",
    "\n",
    "\n",
    "#Write a function that prints all the perfect numbers less than or equal to x\n",
    "function all_perfect_numbers(x::Int, verbose::Bool = false)\n",
    "    to_be_checked = vcat([i for i in 8:10:x],[i for i in 6:10:x])\n",
    "    perfect_number_indexes = [perfect_number(i) for i in to_be_checked]\n",
    "    return sort(to_be_checked[perfect_number_indexes])\n",
    "end\n",
    "\n",
    "all_perfect_numbers(10^6,true)"
   ]
  },
  {
   "cell_type": "markdown",
   "metadata": {},
   "source": [
    "# Solution to [Question 6](https://courses.smp.uq.edu.au/MATH2504/2022/assessment_html/bighw.html#q6)"
   ]
  },
  {
   "cell_type": "code",
   "execution_count": null,
   "metadata": {},
   "outputs": [],
   "source": [
    "using Plots\n",
    "using StatsBase\n",
    "\n",
    "function sieve_of_Eratosthenes(n)\n",
    "    primebits = ones(Bool,n) #Will contain true if the index is prime (initially all assumed prime)\n",
    "    primebits[1] = false #The number 1 is not prime\n",
    "    p = 2 #Smallest prime\n",
    "    while p ≤ n\n",
    "        i = 2p\n",
    "        while i ≤ n  # \\le +[TAB]\n",
    "            primebits[i] = false\n",
    "            i += p\n",
    "        end\n",
    "        p += 1\n",
    "        while p ≤ n && !primebits[p]\n",
    "            p += 1\n",
    "        end\n",
    "    end\n",
    "    (1:n)[primebits]\n",
    "end\n",
    "\n",
    "function check_goldbach(nmax)\n",
    "    primes = sieve_of_Eratosthenes(nmax)\n",
    "    num_pairs = 0 * Vector{Float64}(undef,2*nmax)\n",
    "    for i in eachindex(primes)\n",
    "        for j in i:length(primes)\n",
    "            num_pairs[primes[i]+primes[j]] += 1\n",
    "        end\n",
    "    end\n",
    "    return num_pairs\n",
    "end\n",
    "\n",
    "nmax = 10^6\n",
    "pairs = check_goldbach(nmax)\n",
    "subset = sample(4:2:nmax, 20000 ,replace= false) \n",
    "###\n",
    "evens = pairs[4:2:nmax]\n",
    "if 0 ∈ evens\n",
    "    println(\"Found a counter example for Goldbach\")\n",
    "end\n",
    "###\n",
    "\n",
    "scatter(subset,pairs[subset],legend=false,xlabel=\"n\",ylabel=\"Number of Goldbach pairs\")\n",
    "\n"
   ]
  },
  {
   "cell_type": "markdown",
   "metadata": {},
   "source": [
    "# Solution to [Question 7](https://courses.smp.uq.edu.au/MATH2504/2022/assessment_html/bighw.html#q7)"
   ]
  },
  {
   "cell_type": "code",
   "execution_count": null,
   "metadata": {},
   "outputs": [],
   "source": [
    "using Random, BenchmarkTools\n",
    "\n",
    "random_license_plate() = String(rand('0':'9',3)) * \" \" * String(rand('A':'Z',3))\n",
    "\n",
    "function prepare_data(;N = 10^7)\n",
    "    Random.seed!(1)\n",
    "    indexes = rand(1:10^12, N)\n",
    "    plates = [random_license_plate() for _ in 1:N]\n",
    "\n",
    "    #One specific spot is set to a special value.\n",
    "    special_spot = Int(floor(0.9*N)) #Arbitrary index\n",
    "    indexes[special_spot], plates[special_spot] = 1234567890, \"000 ZZZ\"\n",
    "    \n",
    "    return indexes, plates\n",
    "end\n",
    "\n",
    "function prepare_sorted_data(;N = 10^7)\n",
    "    indexes, plates = prepare_data(N=N)  \n",
    "    perm = sortperm(indexes)\n",
    "    return indexes[perm], plates[perm]\n",
    "end\n"
   ]
  },
  {
   "cell_type": "markdown",
   "metadata": {},
   "source": [
    "## 7a:"
   ]
  },
  {
   "cell_type": "markdown",
   "id": "9cdb683f",
   "metadata": {},
   "source": [
    "The one line function definition of a function is referred to 'assignment form' in the documentation. It is a method to define a function in Julia with a lot less clutter and noise than doing a full defintion using `function` and `end`. However, the drawback is that the function must have a single expression. \n",
    "\n"
   ]
  },
  {
   "cell_type": "code",
   "execution_count": null,
   "id": "1f43a5d5",
   "metadata": {},
   "outputs": [],
   "source": [
    "# simple assignment form function that adds two numbers\n",
    "adder(x,y) = x + y\n",
    "\n",
    "adder(1,5)"
   ]
  },
  {
   "cell_type": "markdown",
   "id": "17aff8c1",
   "metadata": {},
   "source": [
    "On top of multiplication, Julia uses the `*` function to concatenate strings. Concatenating strings simply takes all the elements in each string in order, and combines them into a larger string. In this case, we are concatenating the randomly generated numerical and alphabetical parts of the number plate, along with a space in the middle. "
   ]
  },
  {
   "cell_type": "code",
   "execution_count": null,
   "id": "63484934",
   "metadata": {},
   "outputs": [],
   "source": [
    "# concatenating some strings\n",
    "\n",
    "\"hello\" * \" \"* \"there\""
   ]
  },
  {
   "cell_type": "markdown",
   "id": "9614a86d",
   "metadata": {},
   "source": [
    "In this code, for each use of `rand`, it is supplied with a set of items to sample from, then a number of times to sample, placing the results into a vector. For example, to generate the numeric part of the number plate, we sample 3 random digits from 0 to 9. "
   ]
  },
  {
   "cell_type": "code",
   "execution_count": null,
   "id": "75283050",
   "metadata": {},
   "outputs": [],
   "source": [
    "rand('0':'9',3)"
   ]
  },
  {
   "cell_type": "markdown",
   "id": "8ac4a42e",
   "metadata": {},
   "source": [
    "The `[ _ for in ]` form is referred to as list comprehension. It is a one line method for defining an array based on some kind of function without resorting to a for loop. "
   ]
  },
  {
   "cell_type": "code",
   "execution_count": null,
   "id": "cf0be9b0",
   "metadata": {},
   "outputs": [],
   "source": [
    "a = [i^2 for i  in 1:10]"
   ]
  },
  {
   "cell_type": "markdown",
   "id": "84ab498a",
   "metadata": {},
   "source": [
    "Returning tuples means we can return multiple outputs in the same line, separated by a comma. This is good for conciseness, but it also allows for the following syntax:"
   ]
  },
  {
   "cell_type": "code",
   "execution_count": null,
   "id": "55d99c2c",
   "metadata": {},
   "outputs": [],
   "source": [
    "x = 4\n",
    "y = 5 # defining x and y\n",
    "x, y = y, x # swapping their values\n",
    "return x, y #returning the tuple"
   ]
  },
  {
   "cell_type": "markdown",
   "id": "af4d7263",
   "metadata": {},
   "source": [
    "The `sortperm()` function is similar to the sort function. However, instead of rearranging the elements in the array to place them in the desired order, it arranges the indexes of the elements in the array in the desired order. This is useful if you want to sort elements, but also keep track of their original positions."
   ]
  },
  {
   "cell_type": "code",
   "execution_count": null,
   "id": "0917d9c3",
   "metadata": {},
   "outputs": [],
   "source": [
    "tbs = [5,2,4,1,9,3]\n",
    "\n",
    "index_of_positions = sortperm(tbs)\n",
    "\n",
    "#gives the indexes of the elements to sort in ascending order"
   ]
  },
  {
   "cell_type": "markdown",
   "metadata": {},
   "source": [
    "## 7b:"
   ]
  },
  {
   "cell_type": "markdown",
   "metadata": {},
   "source": [
    "There is a small chance that we get a duplication of the 1234567890 index. This could be randomly generated with a $\\frac{N}{10^{12}}$ chance  after N generations. There is a chance that we replace the index with itself when assignment the special index. This chance is $\\frac{N - s}{N}$, where s is the number of times the special index was generated randomly. For large N, this chance is close to 1, so it is unlikely that we replace the special index with itself. \n",
    "\n",
    "As of the 3rd of August at 7pm, the BenchmarkTools package has 306 commits. \n",
    "\n",
    "On the 6th of July 2021, a user commented that the output of the `@benchmark` tool had a typo, spelling BenchmarkTools as BechmarkTools. \n",
    "This was then addressed and merged by one of the contributors. \n",
    "\n",
    "From the documentation, it appears that `@btime` works similarly to `@benchmark`, however it reduces the amount of output information to only the minimum time and memory allocation. `@btime` is meant to behave like the built in `@time` macro in Julia. It is also described as a convenience wrapper, meaning that if you don't need all the information provided by `@benchmark` you can just use `@btime`. \n",
    "\n"
   ]
  },
  {
   "cell_type": "code",
   "execution_count": 6,
   "id": "1112f4a5",
   "metadata": {},
   "outputs": [
    {
     "data": {
      "text/plain": [
       "BenchmarkTools.Trial: 10000 samples with 7 evaluations.\n",
       " Range \u001b[90m(\u001b[39m\u001b[36m\u001b[1mmin\u001b[22m\u001b[39m … \u001b[35mmax\u001b[39m\u001b[90m):  \u001b[39m\u001b[36m\u001b[1m4.012 μs\u001b[22m\u001b[39m … \u001b[35m  7.024 μs\u001b[39m  \u001b[90m┊\u001b[39m GC \u001b[90m(\u001b[39mmin … max\u001b[90m): \u001b[39m0.00% … 0.00%\n",
       " Time  \u001b[90m(\u001b[39m\u001b[34m\u001b[1mmedian\u001b[22m\u001b[39m\u001b[90m):     \u001b[39m\u001b[34m\u001b[1m4.137 μs               \u001b[22m\u001b[39m\u001b[90m┊\u001b[39m GC \u001b[90m(\u001b[39mmedian\u001b[90m):    \u001b[39m0.00%\n",
       " Time  \u001b[90m(\u001b[39m\u001b[32m\u001b[1mmean\u001b[22m\u001b[39m ± \u001b[32mσ\u001b[39m\u001b[90m):   \u001b[39m\u001b[32m\u001b[1m4.140 μs\u001b[22m\u001b[39m ± \u001b[32m220.239 ns\u001b[39m  \u001b[90m┊\u001b[39m GC \u001b[90m(\u001b[39mmean ± σ\u001b[90m):  \u001b[39m0.00% ± 0.00%\n",
       "\n",
       "  \u001b[39m█\u001b[39m▆\u001b[39m▁\u001b[39m▁\u001b[39m \u001b[39m█\u001b[34m▆\u001b[39m\u001b[39m▁\u001b[39m▁\u001b[39m▁\u001b[39m▄\u001b[39m▁\u001b[39m \u001b[39m \u001b[39m \u001b[39m \u001b[39m \u001b[39m \u001b[39m \u001b[39m \u001b[39m \u001b[39m \u001b[39m \u001b[39m \u001b[39m \u001b[39m \u001b[39m \u001b[39m \u001b[39m \u001b[39m \u001b[39m \u001b[39m \u001b[39m \u001b[39m \u001b[39m \u001b[39m \u001b[39m \u001b[39m \u001b[39m \u001b[39m \u001b[39m \u001b[39m \u001b[39m \u001b[39m \u001b[39m \u001b[39m \u001b[39m \u001b[39m \u001b[39m \u001b[39m \u001b[39m \u001b[39m \u001b[39m \u001b[39m \u001b[39m \u001b[39m \u001b[39m \u001b[39m \u001b[39m \u001b[39m \u001b[39m▂\n",
       "  \u001b[39m█\u001b[39m█\u001b[39m█\u001b[39m█\u001b[39m▇\u001b[39m█\u001b[34m█\u001b[39m\u001b[39m█\u001b[39m█\u001b[39m█\u001b[39m█\u001b[39m█\u001b[39m█\u001b[39m▇\u001b[39m▆\u001b[39m▆\u001b[39m▇\u001b[39m▇\u001b[39m▆\u001b[39m▅\u001b[39m▆\u001b[39m█\u001b[39m▆\u001b[39m▆\u001b[39m▆\u001b[39m▆\u001b[39m▆\u001b[39m▇\u001b[39m▇\u001b[39m▇\u001b[39m▇\u001b[39m▇\u001b[39m▆\u001b[39m▆\u001b[39m▄\u001b[39m▆\u001b[39m▆\u001b[39m▆\u001b[39m▇\u001b[39m▆\u001b[39m▇\u001b[39m▄\u001b[39m▆\u001b[39m▅\u001b[39m▁\u001b[39m▅\u001b[39m▆\u001b[39m▅\u001b[39m▅\u001b[39m▆\u001b[39m▆\u001b[39m▅\u001b[39m▄\u001b[39m▅\u001b[39m▃\u001b[39m▆\u001b[39m▄\u001b[39m▃\u001b[39m▄\u001b[39m \u001b[39m█\n",
       "  4.01 μs\u001b[90m      \u001b[39m\u001b[90mHistogram: \u001b[39m\u001b[90m\u001b[1mlog(\u001b[22m\u001b[39m\u001b[90mfrequency\u001b[39m\u001b[90m\u001b[1m)\u001b[22m\u001b[39m\u001b[90m by time\u001b[39m      5.35 μs \u001b[0m\u001b[1m<\u001b[22m\n",
       "\n",
       " Memory estimate\u001b[90m: \u001b[39m\u001b[33m0 bytes\u001b[39m, allocs estimate\u001b[90m: \u001b[39m\u001b[33m0\u001b[39m."
      ]
     },
     "metadata": {},
     "output_type": "display_data"
    }
   ],
   "source": [
    "function find_special_plate(indexes, plates; special_index = 1234567890)\n",
    "    for (i, index) in enumerate(indexes) \n",
    "        if index == special_index \n",
    "            return plates[i]\n",
    "        end\n",
    "    end \n",
    "    throw(Error(\"Index not found\"))\n",
    "end\n",
    "\n",
    "indexes, plates = prepare_sorted_data()\n",
    "\n",
    "@benchmark find_special_plate(indexes, plates)"
   ]
  },
  {
   "cell_type": "markdown",
   "metadata": {},
   "source": [
    "## 7c:"
   ]
  },
  {
   "cell_type": "code",
   "execution_count": 7,
   "metadata": {},
   "outputs": [
    {
     "name": "stdout",
     "output_type": "stream",
     "text": [
      "  100.467 ns (2 allocations: 144 bytes)\n"
     ]
    },
    {
     "data": {
      "text/plain": [
       "\"000 ZZZ\""
      ]
     },
     "metadata": {},
     "output_type": "display_data"
    }
   ],
   "source": [
    "using Random, BenchmarkTools\n",
    "\n",
    "function my_binary_search(indexes, plates; special_index = 1234567890)\n",
    "    n = length(indexes)\n",
    "    if n >= 1\n",
    "        m = Int((n + 1)÷2)\n",
    "        if indexes[m] == special_index\n",
    "            return plates[m]\n",
    "        elseif indexes[m] > special_index\n",
    "            return my_binary_search(indexes[1:(m-1)], plates[1:(m-1)], special_index = special_index)\n",
    "        else indexes[m] < special_index\n",
    "            return my_binary_search(indexes[m:n], plates[m:n],special_index = special_index )\n",
    "        end\n",
    "    else\n",
    "        throw((\"Index not found\"))\n",
    "    end\n",
    "end\n",
    "\n",
    "indexes, plates = prepare_sorted_data(N=5) \n",
    "\n",
    "\n",
    "@btime my_binary_search(indexes, plates; special_index = 1234567890)\n"
   ]
  },
  {
   "cell_type": "markdown",
   "metadata": {},
   "source": [
    "## 7d:"
   ]
  },
  {
   "cell_type": "markdown",
   "metadata": {},
   "source": [
    "The binary search picks the middle element of an array, then decides whether to look in the top or bottom half. It repeats this for each iteration. In the process, the length of the subset of the array it is searching decreases according to the following pattern:\n",
    "$n , \\frac{n}{2}, \\frac{n}{2^2}, \\dots \\frac{n}{2^k}$. After $k$ iterations, we expect the problem to reduce to a 1 element array, which should be the solution. \n",
    "$\\frac{n}{2^k} = 1 \\to n = 2^k \\to k = \\log_2 n$, which shows that at worst the time complexity is $O( \\log n)$."
   ]
  },
  {
   "cell_type": "markdown",
   "metadata": {},
   "source": [
    "# Solution to [Question 8](https://courses.smp.uq.edu.au/MATH2504/2022/assessment_html/bighw.html#q8)"
   ]
  },
  {
   "cell_type": "code",
   "execution_count": null,
   "metadata": {},
   "outputs": [],
   "source": [
    "function array_table(array, heading)\n",
    "    println(heading,\":\")\n",
    "    for (i,a) in enumerate(array)\n",
    "        println(i,\"\\t\",a)\n",
    "    end\n",
    "end"
   ]
  },
  {
   "cell_type": "markdown",
   "metadata": {},
   "source": [
    "## 8a:"
   ]
  },
  {
   "cell_type": "code",
   "execution_count": null,
   "metadata": {},
   "outputs": [],
   "source": [
    "name_list = [   \"Amy Chan\",\n",
    "            \"Maithili Mehta\",\n",
    "            \"Anna Foeglein\",\n",
    "            \"Andy Ferris\",\n",
    "            \"Thomas Graham\",\n",
    "            \"Elaine Schenk\",\n",
    "            \"Jesse Woods\",\n",
    "            \"Tina Moghaddam\",\n",
    "            \"Paul Bellette\",\n",
    "            \"Paul Vrbik\",\n",
    "            \"Tom Cranitch\",\n",
    "            \"Yoni Nazarathy\",\n",
    "            \"Sam Hambleton\",\n",
    "            \"Alistair Falconer\",\n",
    "            \"Emma Comino\",\n",
    "            \"Ivana Carrizo-Molina\"]\n",
    "\n",
    "array_table(sort(name_list, by = (x) -> length(split(x,\" \")[2])),\"Sorted by length of last name (Base Sort)\")"
   ]
  },
  {
   "cell_type": "markdown",
   "metadata": {},
   "source": [
    "## 8b:"
   ]
  },
  {
   "cell_type": "code",
   "execution_count": null,
   "metadata": {},
   "outputs": [],
   "source": [
    "\n",
    "function my_sort_bubble!(A; by = (x) -> x)\n",
    "    n = length(A)\n",
    "    for i in 1:n\n",
    "        for j in 1:(n - i)\n",
    "            if by(A[j]) > by(A[j+1])\n",
    "                A[j] , A[j+1] = A[j+1] , A[j]\n",
    "            end\n",
    "        end\n",
    "    end\n",
    "end\n",
    "            \n",
    "name_list = [   \"Amy Chan\",\n",
    "            \"Maithili Mehta\",\n",
    "            \"Anna Foeglein\",\n",
    "            \"Andy Ferris\",\n",
    "            \"Thomas Graham\",\n",
    "            \"Elaine Schenk\",\n",
    "            \"Jesse Woods\",\n",
    "            \"Tina Moghaddam\",\n",
    "            \"Paul Bellette\",\n",
    "            \"Paul Vrbik\",\n",
    "            \"Tom Cranitch\",\n",
    "            \"Yoni Nazarathy\",\n",
    "            \"Sam Hambleton\",\n",
    "            \"Alistair Falconer\",\n",
    "            \"Emma Comino\",\n",
    "            \"Ivana Carrizo-Molina\"]\n",
    "\n",
    "my_sort_bubble!(name_list, by = (x) -> length(split(x,\" \")[2]))\n",
    "\n",
    "array_table(name_list,\"Sorted by length of last name (Bubble Sort)\")\n",
    "\n"
   ]
  },
  {
   "cell_type": "markdown",
   "metadata": {},
   "source": [
    "## 8c:"
   ]
  },
  {
   "cell_type": "code",
   "execution_count": null,
   "metadata": {},
   "outputs": [],
   "source": [
    "\n",
    "function quick_sort!(A; by = (x) -> x)\n",
    "    qsort(A, 1, length(A), by = by)\n",
    "end\n",
    "\n",
    "function qsort(A, low, high; by = (x) -> x)\n",
    "    if low < high\n",
    "        part = parter(A, low, high, by = by)\n",
    "        qsort(A, low, part - 1, by = by)\n",
    "        qsort(A, part + 1, high, by = by)\n",
    "    end\n",
    "end\n",
    "\n",
    "function parter(A, low, high; by = (x) -> x)\n",
    "    m = (low + high) ÷ 2\n",
    "    A[m] , A[high] = A[high], A[m]\n",
    "    pivot = by(A[high])\n",
    "    #A[m], A[high] = A[high], A[m]\n",
    "    store = low\n",
    "    for i = low:(high-1)\n",
    "        if by(A[i]) <= pivot\n",
    "            A[i], A[store] = A[store], A[i]\n",
    "            store += 1\n",
    "        end\n",
    "    end\n",
    "    A[high], A[store] = A[store], A[high]\n",
    "    return store\n",
    "end\n",
    "\n",
    "            \n",
    "name_list = [   \"Amy Chan\",\n",
    "            \"Maithili Mehta\",\n",
    "            \"Anna Foeglein\",\n",
    "            \"Andy Ferris\",\n",
    "            \"Thomas Graham\",\n",
    "            \"Elaine Schenk\",\n",
    "            \"Jesse Woods\",\n",
    "            \"Tina Moghaddam\",\n",
    "            \"Paul Bellette\",\n",
    "            \"Paul Vrbik\",\n",
    "            \"Tom Cranitch\",\n",
    "            \"Yoni Nazarathy\",\n",
    "            \"Sam Hambleton\",\n",
    "            \"Alistair Falconer\",\n",
    "            \"Emma Comino\",\n",
    "            \"Ivana Carrizo-Molina\"]\n",
    "\n",
    "quick_sort!(name_list, by = (x) -> length(split(x,\" \")[2]))\n",
    "\n",
    "\n",
    "array_table(name_list,\"Sorted by length of last name (Quick Sort)\")\n"
   ]
  },
  {
   "cell_type": "markdown",
   "metadata": {},
   "source": [
    "## 8d:"
   ]
  },
  {
   "cell_type": "code",
   "execution_count": null,
   "metadata": {},
   "outputs": [],
   "source": [
    "using BenchmarkTools\n",
    "println(\"Bubble Sort with 10^4 random integers\")\n",
    "@btime my_sort_bubble(rand(Int,10^4)) ;\n",
    "println(\"Bubble Sort with 10^5 random integers\")\n",
    "@btime my_sort_bubble(rand(Int,10^5)) ;\n",
    "println(\"Quick Sort with 10^6 random integers\")\n",
    "@btime quick_sort!(rand(Int, 10^6)) ;\n",
    "println(\"Quick Sort with 10^7 random integers\")\n",
    "@btime quick_sort!(rand(Int, 10^7)) ;\n",
    "println(\"Quick Sort with 10^8 random integers\")\n",
    "@btime quick_sort!(rand(Int, 10^8)) ;\n",
    "println(\"Base sort with 10^6 random integers\")\n",
    "@btime sort(rand(Int,10^6)) ;\n",
    "println(\"Base sort with 10^7 random integers\")\n",
    "@btime sort(rand(Int,10^7)) ;\n",
    "println(\"Base sort with 10^8 random integers\")\n",
    "@btime sort(rand(Int,10^8)) ;"
   ]
  },
  {
   "cell_type": "markdown",
   "metadata": {},
   "source": [
    "# Solution to [Question 9](https://courses.smp.uq.edu.au/MATH2504/2022/assessment_html/bighw.html#q9)"
   ]
  },
  {
   "cell_type": "markdown",
   "metadata": {},
   "source": [
    "## 9a:"
   ]
  },
  {
   "cell_type": "code",
   "execution_count": null,
   "metadata": {},
   "outputs": [],
   "source": [
    "using LinearAlgebra\n",
    "using Random\n",
    "Random.seed!(0)\n",
    "A = round.(10*rand(2,3))\n",
    "B = round.(10*rand(3,4))\n",
    "\n",
    "function my_mult_by_cols(A,B)\n",
    "    rowsA, columnsA = size(A)\n",
    "    rowsB,columnsB = size(B)\n",
    "    @assert columnsA == rowsB\n",
    "    C = Array{Float64}(undef, rowsA, 0)\n",
    "    new_column = Array{Float64}(undef, rowsA, 1)\n",
    "    A_columns = [A[:,x] for x in 1:columnsA] #Split A into its column vectors\n",
    "    \n",
    "    for i in 1:columnsB\n",
    "        new_entry = [A_columns[j]*B[j,i] for j in 1:rowsB]\n",
    "        new_column = sum(new_entry)\n",
    "        C = hcat(C, new_column) \n",
    "    end\n",
    "    return C\n",
    "end\n",
    "\n",
    "my_mult_by_cols(A,B)"
   ]
  },
  {
   "cell_type": "markdown",
   "metadata": {},
   "source": [
    "## 9b:"
   ]
  },
  {
   "cell_type": "code",
   "execution_count": null,
   "metadata": {},
   "outputs": [],
   "source": [
    "function my_mult_by_rows(A,B)\n",
    "    rowsA, columnsA = size(A)\n",
    "    rowsB,columnsB = size(B)\n",
    "    @assert columnsA == rowsB\n",
    "    C = Array{Float64}(undef, 0, columnsB)\n",
    "    new_row = Array{Float64}(undef, 1, columnsB)\n",
    "    B_rows = [B[x,:] for x in 1:rowsB] #Split B into its row vectors\n",
    "    \n",
    "    for i in 1:rowsA\n",
    "        new_entry = [B_rows[j]*A[i,j] for j in 1:columnsA]\n",
    "        new_row = transpose(sum(new_entry)) #transpose() prevents new_row being a column vector\n",
    "        C = vcat(C, new_row) \n",
    "    end\n",
    "    return C\n",
    "end\n",
    "\n",
    "my_mult_by_rows(A,B)"
   ]
  },
  {
   "cell_type": "markdown",
   "metadata": {},
   "source": [
    "## 9c:"
   ]
  },
  {
   "cell_type": "code",
   "execution_count": null,
   "metadata": {},
   "outputs": [],
   "source": [
    "function my_mult_sum_outer_products(A,B)\n",
    "    rowsA, columnsA = size(A)\n",
    "    rowsB,columnsB = size(B)\n",
    "    @assert columnsA == rowsB\n",
    "\n",
    "    AB = [A[:,j]*transpose(B[j,:]) for j in 1:columnsA]\n",
    "    C = sum(AB)\n",
    "end\n",
    "\n",
    "my_mult_sum_outer_products(A,B)"
   ]
  },
  {
   "cell_type": "markdown",
   "metadata": {},
   "source": [
    "## 9d:\n"
   ]
  },
  {
   "cell_type": "markdown",
   "metadata": {},
   "source": [
    "In my_mult_inner_products, we have a nested loop that involves $n\\times m$ calculations where $n$ is the number of rows in $A$ and $m$ is the number of columns in $B$ (and where $n\\times m$ are the dimensions of $C$). In this case, each individual element of C is being calculated. For 9a and b, $C$ is being calculated per column/row, so only $m$ calculations are needed for 9a and $n$ calculations are needed for 9b. Evidently, these two methods involve fewer calculations than the inner product. Finally, 9c finds the matrix $C$ using the outer product. My code shows that only $m$ iterations are needed to calculate an array of vectors, and then sum those vectors to get $C$, so overall there are $m+1$ calculations.\n",
    "\n",
    "Therefore, in terms of the number of operations, my_mult_inner_product has more operations involved than the functions in 9a,b and c. "
   ]
  }
 ],
 "metadata": {
  "kernelspec": {
   "display_name": "Julia 1.7.3",
   "language": "julia",
   "name": "julia-1.7"
  },
  "language_info": {
   "file_extension": ".jl",
   "mimetype": "application/julia",
   "name": "julia",
   "version": "1.7.3"
  }
 },
 "nbformat": 4,
 "nbformat_minor": 4
}
